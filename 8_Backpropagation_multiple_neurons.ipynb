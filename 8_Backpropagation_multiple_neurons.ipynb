{
 "cells": [
  {
   "cell_type": "code",
   "execution_count": 3,
   "metadata": {},
   "outputs": [],
   "source": [
    "import numpy as np"
   ]
  },
  {
   "cell_type": "code",
   "execution_count": 4,
   "metadata": {},
   "outputs": [],
   "source": [
    "#Initial inputs\n",
    "\n",
    "inputs = np.array([1,2,3,4])\n",
    "\n",
    "# Initial weights and biases\n",
    "\n",
    "weights = np.array([\n",
    "    [0.1,0.2,0.3,0.4],\n",
    "    [0.5,0.6,0.7,0.8],\n",
    "    [0.9,1.0,1.1,1.2]\n",
    "])"
   ]
  },
  {
   "cell_type": "code",
   "execution_count": 5,
   "metadata": {},
   "outputs": [],
   "source": [
    "biases = np.array([0.1,0.2,0.3])"
   ]
  },
  {
   "cell_type": "code",
   "execution_count": 7,
   "metadata": {},
   "outputs": [
    {
     "name": "stdout",
     "output_type": "stream",
     "text": [
      "Iteration 0, Loss: 5.244645462659219e-10\n",
      "Iteration 20, Loss: 4.0534952695210353e-11\n",
      "Iteration 40, Loss: 3.132875999354687e-12\n",
      "Iteration 60, Loss: 2.42134537657066e-13\n",
      "Iteration 80, Loss: 1.8714157315955333e-14\n",
      "Iteration 100, Loss: 1.446384677446104e-15\n",
      "Iteration 120, Loss: 1.117885573813104e-16\n",
      "Iteration 140, Loss: 8.639942892432007e-18\n",
      "Iteration 160, Loss: 6.677661257483395e-19\n",
      "Iteration 180, Loss: 5.161046100041788e-20\n",
      "Final weights:\n",
      " [[-0.00698895 -0.01397789 -0.02096684 -0.02795579]\n",
      " [ 0.25975286  0.11950572 -0.02074143 -0.16098857]\n",
      " [ 0.53548387  0.27096774  0.00645161 -0.25806452]]\n",
      "Final biases: \n",
      " [-0.00698895 -0.04024714 -0.06451613]\n"
     ]
    }
   ],
   "source": [
    "# Learning rate\n",
    "\n",
    "learning_rate = 0.001\n",
    "\n",
    "\n",
    "# ReLU activation function and its derivative\n",
    "\n",
    "def relu(x):\n",
    "    return np.maximum(0,x)\n",
    "\n",
    "def relu_derivative(x):\n",
    "    return np.where(x > 0,1,0)\n",
    "\n",
    "# Training loop\n",
    "for iteration in range(200):\n",
    "    # Forward pass\n",
    "    z = np.dot (weights,inputs) +biases\n",
    "    a = relu(z)\n",
    "    y = np.sum(a)\n",
    "\n",
    "    #Calculate loss\n",
    "    loss = y ** 2\n",
    "\n",
    "    # Backward pass\n",
    "    # Gradient of loss with respect to output y\n",
    "    dL_dy = 2 * y\n",
    "\n",
    "    # Gradient of loss with respect to output y\n",
    "    dy_da = np.ones_like(a)\n",
    "\n",
    "    # Gradient of loss with respect to a\n",
    "\n",
    "    dL_da = dL_dy* dy_da \n",
    "\n",
    "    # Gradient of a with respect to z (ReLU derivative)\n",
    "\n",
    "    da_dz = relu_derivative(z)\n",
    "\n",
    "    # Gradient of loss with respect to z\n",
    "\n",
    "    dL_dz = dL_da * da_dz\n",
    "\n",
    "    # Gradient of z with respect to weights and biases\n",
    "\n",
    "    dL_dw = np.outer(dL_dz, inputs)\n",
    "    dL_db = dL_dz \n",
    "\n",
    "\n",
    "    # Update weights and biases\n",
    "\n",
    "    weights -= learning_rate*dL_dw\n",
    "    biases -= learning_rate*dL_db\n",
    "\n",
    "    # Print the loss every 20 interation \n",
    "\n",
    "    if iteration % 20 == 0:\n",
    "        print(f\"Iteration {iteration}, Loss: {loss}\")\n",
    "\n",
    "\n",
    "# Final weights and biases\n",
    "print(\"Final weights:\\n\", weights)\n",
    "print(\"Final biases: \\n\", biases)\n",
    "\n",
    "\n",
    "\n"
   ]
  },
  {
   "cell_type": "markdown",
   "metadata": {},
   "source": [
    "### Using Matrices in Backpropagation"
   ]
  },
  {
   "cell_type": "markdown",
   "metadata": {},
   "source": []
  },
  {
   "cell_type": "code",
   "execution_count": null,
   "metadata": {},
   "outputs": [],
   "source": []
  }
 ],
 "metadata": {
  "kernelspec": {
   "display_name": "Python 3",
   "language": "python",
   "name": "python3"
  },
  "language_info": {
   "codemirror_mode": {
    "name": "ipython",
    "version": 3
   },
   "file_extension": ".py",
   "mimetype": "text/x-python",
   "name": "python",
   "nbconvert_exporter": "python",
   "pygments_lexer": "ipython3",
   "version": "3.12.4"
  }
 },
 "nbformat": 4,
 "nbformat_minor": 2
}

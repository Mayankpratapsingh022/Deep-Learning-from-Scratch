{
 "cells": [
  {
   "cell_type": "markdown",
   "metadata": {},
   "source": [
    "## CREATING LAYERS : FORWARD AND BACKWARD PASS"
   ]
  },
  {
   "cell_type": "code",
   "execution_count": 1,
   "metadata": {},
   "outputs": [],
   "source": [
    "import numpy as np"
   ]
  },
  {
   "cell_type": "code",
   "execution_count": 2,
   "metadata": {},
   "outputs": [],
   "source": [
    "# Dense Layer\n",
    "class Layer_Dense:\n",
    "    # Layer initialization\n",
    "\n",
    "    def __init__(self,n_inputs,n_neurons):\n",
    "        # Initialize weights and biases\n",
    "\n",
    "        self.weights = 0.01*np.random.randn(n_inputs,n_neurons)\n",
    "        self.biases = np.zeros((1,n_neurons))\n",
    "\n",
    "\n",
    "    # Forward pass\n",
    "\n",
    "    def forward(self,inputs):\n",
    "        # Remember input values\n",
    "\n",
    "        self.inputs = inputs \n",
    "        # Calculate output values from input ones, weights and biases\n",
    "        self.output = np.dot(inputs,self.weights) + self.biases\n",
    "    \n",
    "    # Backward pass\n",
    "\n",
    "    def backward(self,dvalues):\n",
    "        # Gradients on parameters\n",
    "\n",
    "        self.dweights = np.dot(self.inputs.T,dvalues)\n",
    "        self.dbiases = np.sum(dvalues,axis=0,keepdims=True)\n",
    "\n",
    "        # Gradient on values\n",
    "\n",
    "        self.dinputs = np.dot(dvalues,self.weights.T)\n",
    "\n",
    "\n"
   ]
  },
  {
   "cell_type": "markdown",
   "metadata": {},
   "source": [
    "### RELU ACTIVATION: FORWARD AND BACKWARD PASS"
   ]
  },
  {
   "cell_type": "code",
   "execution_count": 3,
   "metadata": {},
   "outputs": [],
   "source": [
    "# ReLU acdtiation\n",
    "\n",
    "class Activation_ReLU:\n",
    "    # Forward pass\n",
    "    def forward(self,inputs):\n",
    "        # Remember input values\n",
    "        self.inputs = inputs\n",
    "        # Calculate output values from inputs \n",
    "\n",
    "        self.output = np.maximum(0,inputs)\n",
    "\n",
    "\n",
    "    # Backward pass\n",
    "\n",
    "    def backward(self,dvalues):\n",
    "        # Since we need to modify the original variable,\n",
    "        # let's make a copy of values first\n",
    "        self.dinputs = dvalues.copy()\n",
    "        # Zero gradient where input values were negative\n",
    "        self.dinputs[self.inputs <=0] = 0"
   ]
  },
  {
   "cell_type": "markdown",
   "metadata": {},
   "source": [
    "# FULL CODE UPTO THIS POINT : FORWARD AND BACKWARD PASS"
   ]
  },
  {
   "cell_type": "code",
   "execution_count": 5,
   "metadata": {},
   "outputs": [
    {
     "name": "stdout",
     "output_type": "stream",
     "text": [
      "[0.7 0.5 0.9]\n",
      "[[0.35667494 2.30258509 1.60943791]\n",
      " [2.30258509 0.69314718 0.91629073]\n",
      " [3.91202301 0.10536052 2.52572864]]\n",
      "0.38506088005216804\n",
      "[0.35667494 0.69314718 0.10536052]\n",
      "0.38506088005216804\n",
      "0.38506088005216804\n",
      "Gradients: combined loss and activation :\n",
      "[[-0.1         0.03333333  0.06666667]\n",
      " [ 0.03333333 -0.16666667  0.13333333]\n",
      " [ 0.00666667 -0.03333333  0.02666667]]\n"
     ]
    }
   ],
   "source": [
    "%run 10_Backpropagtation_Softmax_A_Cross_Entropy_loss.ipynb"
   ]
  },
  {
   "cell_type": "code",
   "execution_count": 4,
   "metadata": {},
   "outputs": [],
   "source": [
    "import nnfs \n",
    "from nnfs.datasets import spiral_data  "
   ]
  },
  {
   "cell_type": "code",
   "execution_count": 6,
   "metadata": {},
   "outputs": [
    {
     "name": "stdout",
     "output_type": "stream",
     "text": [
      "[[0.33333333 0.33333333 0.33333333]\n",
      " [0.33333264 0.3333343  0.33333305]\n",
      " [0.3333318  0.33333549 0.33333271]\n",
      " [0.33333109 0.33333649 0.33333242]\n",
      " [0.33333055 0.33333726 0.33333219]]\n",
      "loss 1.0986023939283553\n"
     ]
    }
   ],
   "source": [
    "# Create dataset\n",
    "\n",
    "X,y = spiral_data(samples=100,classes=3)\n",
    "\n",
    "# Create Dense layer with 2 input features and 3 output values \n",
    "\n",
    "dense1 = Layer_Dense(2,3)\n",
    "# Create ReLU activation (to be used with Dense layer):\n",
    "activation1 = Activation_ReLU()\n",
    "\n",
    "# Create second Dense layer with 3 input features (as we take output\n",
    "#of previous layer here)  and 3 output values \n",
    "\n",
    "dense2 = Layer_Dense(3,3)\n",
    "\n",
    "# Create Softmax classifier's combined loss and activation \n",
    "loss_activation = Activation_Softmax_Loss_CategoricalCrossentropy()\n",
    "\n",
    "# Perform a forward pass of our training data throght this layer\n",
    "dense1.forward(X)\n",
    "\n",
    "# Perform a forward pass throught activation function\n",
    "# takes the output of first dense layer here\n",
    "\n",
    "\n",
    "activation1.forward(dense1.output)\n",
    "\n",
    "# Perform a forward pass throught second Dense layer\n",
    "# takes outputs of actiavtion function of first layer as inputs\n",
    "\n",
    "dense2.forward(activation1.output)\n",
    "\n",
    "# Perform a forward pass through the actiavtion/loss functin\n",
    "# akes the output of second dense alyer here and return loss\n",
    "\n",
    "loss = loss_activation.forward(dense2.output,y)\n",
    "\n",
    "# Let's see output of the first few samples:\n",
    "\n",
    "print(loss_activation.output[:5])\n",
    "\n",
    "# print loss values\n",
    "print('loss',loss)\n",
    "\n"
   ]
  },
  {
   "cell_type": "code",
   "execution_count": 7,
   "metadata": {},
   "outputs": [
    {
     "name": "stdout",
     "output_type": "stream",
     "text": [
      "acc: 0.38333333333333336\n",
      "[[-1.66607232e-04  1.19496997e-04  1.54812099e-04]\n",
      " [ 3.40522376e-04  8.09968669e-06 -4.89209939e-04]]\n",
      "[[-1.25220687e-04 -4.84606863e-05 -5.79296184e-04]]\n",
      "[[-9.54183094e-06  5.20428070e-05 -4.25009761e-05]\n",
      " [-7.08412154e-05  1.61847161e-04 -9.10059452e-05]\n",
      " [ 8.99390193e-05 -4.59010860e-04  3.69071841e-04]]\n",
      "[[-1.34145411e-05  1.65809705e-05 -3.16642941e-06]]\n"
     ]
    }
   ],
   "source": [
    "# Calculate accuracy from output of activation2 and targets \n",
    "# calculate values along first axis\n",
    "\n",
    "predictions = np.argmax(loss_activation.output, axis=1)\n",
    "\n",
    "if len(y.shape) == 2:\n",
    "    y = np.argmax(y,axis=1)\n",
    "\n",
    "accuracy = np.mean(predictions == y)\n",
    "\n",
    "# Print accuracy\n",
    "\n",
    "print('acc:',accuracy)\n",
    "\n",
    "# Backward pass\n",
    "\n",
    "loss_activation.backward(loss_activation.output,y)\n",
    "dense2.backward(loss_activation.dinputs)\n",
    "activation1.backward(dense2.dinputs)\n",
    "dense1.backward(activation1.dinputs)\n",
    "\n",
    "# Print gradients\n",
    "\n",
    "print(dense1.dweights)\n",
    "print(dense1.dbiases)\n",
    "print(dense2.dweights)\n",
    "print(dense2.dbiases)"
   ]
  },
  {
   "cell_type": "code",
   "execution_count": null,
   "metadata": {},
   "outputs": [],
   "source": []
  }
 ],
 "metadata": {
  "kernelspec": {
   "display_name": "Python 3",
   "language": "python",
   "name": "python3"
  },
  "language_info": {
   "codemirror_mode": {
    "name": "ipython",
    "version": 3
   },
   "file_extension": ".py",
   "mimetype": "text/x-python",
   "name": "python",
   "nbconvert_exporter": "python",
   "pygments_lexer": "ipython3",
   "version": "3.12.4"
  }
 },
 "nbformat": 4,
 "nbformat_minor": 2
}

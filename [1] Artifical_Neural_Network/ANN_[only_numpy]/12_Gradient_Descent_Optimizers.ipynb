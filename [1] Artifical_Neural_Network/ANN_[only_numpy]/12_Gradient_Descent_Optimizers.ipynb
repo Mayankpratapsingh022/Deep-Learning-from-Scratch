{
 "cells": [
  {
   "cell_type": "markdown",
   "metadata": {},
   "source": [
    "# GRADIENT DESCENT OPTIMIZERS"
   ]
  },
  {
   "cell_type": "code",
   "execution_count": 4,
   "metadata": {},
   "outputs": [
    {
     "name": "stdout",
     "output_type": "stream",
     "text": [
      "[0.7 0.5 0.9]\n",
      "[[0.35667494 2.30258509 1.60943791]\n",
      " [2.30258509 0.69314718 0.91629073]\n",
      " [3.91202301 0.10536052 2.52572864]]\n",
      "0.38506088005216804\n",
      "[0.35667494 0.69314718 0.10536052]\n",
      "0.38506088005216804\n",
      "0.38506088005216804\n",
      "Gradients: combined loss and activation :\n",
      "[[-0.1         0.03333333  0.06666667]\n",
      " [ 0.03333333 -0.16666667  0.13333333]\n",
      " [ 0.00666667 -0.03333333  0.02666667]]\n",
      "[[0.33333333 0.33333333 0.33333333]\n",
      " [0.33333337 0.33333314 0.33333349]\n",
      " [0.33333341 0.33333294 0.33333366]\n",
      " [0.33333348 0.33333245 0.33333406]\n",
      " [0.33333353 0.33333217 0.3333343 ]]\n",
      "loss 1.0986134635059523\n",
      "acc: 0.31333333333333335\n",
      "[[ 2.15146530e-05 -6.81505578e-05 -1.41090526e-06]\n",
      " [-2.35763952e-05  4.14513899e-04  2.32624539e-05]]\n",
      "[[6.65576086e-05 1.29613168e-04 3.42272745e-06]]\n",
      "[[-1.44077404e-04  1.28973290e-04  1.51041145e-05]\n",
      " [-3.60167635e-05 -3.36139244e-05  6.96306879e-05]\n",
      " [ 1.24513864e-04  3.00203649e-05 -1.54534229e-04]]\n",
      "[[ 7.54977094e-07 -4.87138588e-06  4.11640879e-06]]\n"
     ]
    }
   ],
   "source": [
    "%run 11_BackPropagation_Final_Full.ipynb"
   ]
  },
  {
   "cell_type": "code",
   "execution_count": 5,
   "metadata": {},
   "outputs": [],
   "source": [
    " # SGD  optimizer\n",
    "\n",
    "class Optimizer_SGD:\n",
    "   # Initialize optimizer - set settings,\n",
    "   # learning rate of 1. is default for this optimzer\n",
    "\n",
    "   def __init__(self,learning_rate=1):\n",
    "    self.learning_rate = learning_rate\n",
    "\n",
    "    # Update parameters\n",
    "\n",
    "    def update_params(self,layer):\n",
    "        layer.weights += -self.learning_rate * layer.dweights \n",
    "        layer.biases += -self.learning_rate* layer.dbiases "
   ]
  },
  {
   "cell_type": "code",
   "execution_count": 6,
   "metadata": {},
   "outputs": [],
   "source": [
    "# Create dataset\n",
    "\n",
    "X, y = spiral_data(samples=100, classes =3)\n",
    "\n",
    "# Create Dense layer :"
   ]
  },
  {
   "cell_type": "code",
   "execution_count": null,
   "metadata": {},
   "outputs": [],
   "source": []
  }
 ],
 "metadata": {
  "kernelspec": {
   "display_name": "Python 3",
   "language": "python",
   "name": "python3"
  },
  "language_info": {
   "codemirror_mode": {
    "name": "ipython",
    "version": 3
   },
   "file_extension": ".py",
   "mimetype": "text/x-python",
   "name": "python",
   "nbconvert_exporter": "python",
   "pygments_lexer": "ipython3",
   "version": "3.12.4"
  }
 },
 "nbformat": 4,
 "nbformat_minor": 2
}

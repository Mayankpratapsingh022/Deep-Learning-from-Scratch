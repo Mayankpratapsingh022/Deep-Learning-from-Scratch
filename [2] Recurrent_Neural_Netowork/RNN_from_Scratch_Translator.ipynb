{
 "cells": [
  {
   "cell_type": "code",
   "execution_count": 2,
   "metadata": {},
   "outputs": [],
   "source": [
    "import torch\n",
    "import torch.nn as nn\n",
    "import torch.optim as optim"
   ]
  },
  {
   "cell_type": "markdown",
   "metadata": {},
   "source": [
    "## RNN ENCODER BLOCK"
   ]
  },
  {
   "cell_type": "code",
   "execution_count": 3,
   "metadata": {},
   "outputs": [],
   "source": [
    "class TinyEncoder(nn.Module):\n",
    "    def __init__(self,input_vocab_size,embed_size,hidden_size):\n",
    "        super().__init__()\n",
    "        self.embedding = nn.Embedding(input_vocab_size,embed_size)\n",
    "\n",
    "        # RNN parameters\n",
    "        self.hidden_size = hidden_size\n",
    "        self.W_h= nn.Parameter(torch.randn(hidden_size,hidden_size))\n",
    "        self.W_x = nn.Parameter(torch.randn(hidden_size,embed_size))\n",
    "        self.b = nn.Parameter(torch.zeros(hidden_size))\n",
    "\n",
    "\n",
    "    def forward(self,src_tokens):\n",
    "        \"\"\"\n",
    "        src_tokens: shape (src_len,)\n",
    "        Returns final hidden state (hidden_size,)\n",
    "        \"\"\"\n",
    "\n",
    "        h = torch.zeros(self.hidden_size)\n",
    "\n",
    "        for t in range(src_tokens.shape[0]):\n",
    "            token_id = src_tokens[t]\n",
    "            x_t = self.embedding(token_id)\n",
    "\n",
    "            h = torch.tanh(\n",
    "                torch.mv(self.W_h,h) +\n",
    "                torch.mv(self.W_x,x_t) +\n",
    "                self.b\n",
    "            )\n",
    "\n",
    "        return h\n",
    "\n",
    "\n",
    "\n",
    "\n"
   ]
  },
  {
   "cell_type": "code",
   "execution_count": null,
   "metadata": {},
   "outputs": [],
   "source": []
  }
 ],
 "metadata": {
  "kernelspec": {
   "display_name": "base",
   "language": "python",
   "name": "python3"
  },
  "language_info": {
   "codemirror_mode": {
    "name": "ipython",
    "version": 3
   },
   "file_extension": ".py",
   "mimetype": "text/x-python",
   "name": "python",
   "nbconvert_exporter": "python",
   "pygments_lexer": "ipython3",
   "version": "3.12.7"
  }
 },
 "nbformat": 4,
 "nbformat_minor": 2
}

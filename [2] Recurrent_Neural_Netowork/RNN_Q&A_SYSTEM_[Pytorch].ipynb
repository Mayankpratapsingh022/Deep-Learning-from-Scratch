{
  "nbformat": 4,
  "nbformat_minor": 0,
  "metadata": {
    "colab": {
      "provenance": []
    },
    "kernelspec": {
      "name": "python3",
      "display_name": "Python 3"
    },
    "language_info": {
      "name": "python"
    }
  },
  "cells": [
    {
      "cell_type": "code",
      "execution_count": 1,
      "metadata": {
        "colab": {
          "base_uri": "https://localhost:8080/",
          "height": 206
        },
        "id": "IzyN6jSabBZ4",
        "outputId": "eeb58fa6-afd6-4c0a-ce28-df67f5606e9a"
      },
      "outputs": [
        {
          "output_type": "execute_result",
          "data": {
            "text/plain": [
              "                                          question      answer\n",
              "0                   What is the capital of France?       Paris\n",
              "1                  What is the capital of Germany?      Berlin\n",
              "2               Who wrote 'To Kill a Mockingbird'?  Harper-Lee\n",
              "3  What is the largest planet in our solar system?     Jupiter\n",
              "4   What is the boiling point of water in Celsius?         100"
            ],
            "text/html": [
              "\n",
              "  <div id=\"df-8b6aa334-5d65-41a2-b136-fe4000199cff\" class=\"colab-df-container\">\n",
              "    <div>\n",
              "<style scoped>\n",
              "    .dataframe tbody tr th:only-of-type {\n",
              "        vertical-align: middle;\n",
              "    }\n",
              "\n",
              "    .dataframe tbody tr th {\n",
              "        vertical-align: top;\n",
              "    }\n",
              "\n",
              "    .dataframe thead th {\n",
              "        text-align: right;\n",
              "    }\n",
              "</style>\n",
              "<table border=\"1\" class=\"dataframe\">\n",
              "  <thead>\n",
              "    <tr style=\"text-align: right;\">\n",
              "      <th></th>\n",
              "      <th>question</th>\n",
              "      <th>answer</th>\n",
              "    </tr>\n",
              "  </thead>\n",
              "  <tbody>\n",
              "    <tr>\n",
              "      <th>0</th>\n",
              "      <td>What is the capital of France?</td>\n",
              "      <td>Paris</td>\n",
              "    </tr>\n",
              "    <tr>\n",
              "      <th>1</th>\n",
              "      <td>What is the capital of Germany?</td>\n",
              "      <td>Berlin</td>\n",
              "    </tr>\n",
              "    <tr>\n",
              "      <th>2</th>\n",
              "      <td>Who wrote 'To Kill a Mockingbird'?</td>\n",
              "      <td>Harper-Lee</td>\n",
              "    </tr>\n",
              "    <tr>\n",
              "      <th>3</th>\n",
              "      <td>What is the largest planet in our solar system?</td>\n",
              "      <td>Jupiter</td>\n",
              "    </tr>\n",
              "    <tr>\n",
              "      <th>4</th>\n",
              "      <td>What is the boiling point of water in Celsius?</td>\n",
              "      <td>100</td>\n",
              "    </tr>\n",
              "  </tbody>\n",
              "</table>\n",
              "</div>\n",
              "    <div class=\"colab-df-buttons\">\n",
              "\n",
              "  <div class=\"colab-df-container\">\n",
              "    <button class=\"colab-df-convert\" onclick=\"convertToInteractive('df-8b6aa334-5d65-41a2-b136-fe4000199cff')\"\n",
              "            title=\"Convert this dataframe to an interactive table.\"\n",
              "            style=\"display:none;\">\n",
              "\n",
              "  <svg xmlns=\"http://www.w3.org/2000/svg\" height=\"24px\" viewBox=\"0 -960 960 960\">\n",
              "    <path d=\"M120-120v-720h720v720H120Zm60-500h600v-160H180v160Zm220 220h160v-160H400v160Zm0 220h160v-160H400v160ZM180-400h160v-160H180v160Zm440 0h160v-160H620v160ZM180-180h160v-160H180v160Zm440 0h160v-160H620v160Z\"/>\n",
              "  </svg>\n",
              "    </button>\n",
              "\n",
              "  <style>\n",
              "    .colab-df-container {\n",
              "      display:flex;\n",
              "      gap: 12px;\n",
              "    }\n",
              "\n",
              "    .colab-df-convert {\n",
              "      background-color: #E8F0FE;\n",
              "      border: none;\n",
              "      border-radius: 50%;\n",
              "      cursor: pointer;\n",
              "      display: none;\n",
              "      fill: #1967D2;\n",
              "      height: 32px;\n",
              "      padding: 0 0 0 0;\n",
              "      width: 32px;\n",
              "    }\n",
              "\n",
              "    .colab-df-convert:hover {\n",
              "      background-color: #E2EBFA;\n",
              "      box-shadow: 0px 1px 2px rgba(60, 64, 67, 0.3), 0px 1px 3px 1px rgba(60, 64, 67, 0.15);\n",
              "      fill: #174EA6;\n",
              "    }\n",
              "\n",
              "    .colab-df-buttons div {\n",
              "      margin-bottom: 4px;\n",
              "    }\n",
              "\n",
              "    [theme=dark] .colab-df-convert {\n",
              "      background-color: #3B4455;\n",
              "      fill: #D2E3FC;\n",
              "    }\n",
              "\n",
              "    [theme=dark] .colab-df-convert:hover {\n",
              "      background-color: #434B5C;\n",
              "      box-shadow: 0px 1px 3px 1px rgba(0, 0, 0, 0.15);\n",
              "      filter: drop-shadow(0px 1px 2px rgba(0, 0, 0, 0.3));\n",
              "      fill: #FFFFFF;\n",
              "    }\n",
              "  </style>\n",
              "\n",
              "    <script>\n",
              "      const buttonEl =\n",
              "        document.querySelector('#df-8b6aa334-5d65-41a2-b136-fe4000199cff button.colab-df-convert');\n",
              "      buttonEl.style.display =\n",
              "        google.colab.kernel.accessAllowed ? 'block' : 'none';\n",
              "\n",
              "      async function convertToInteractive(key) {\n",
              "        const element = document.querySelector('#df-8b6aa334-5d65-41a2-b136-fe4000199cff');\n",
              "        const dataTable =\n",
              "          await google.colab.kernel.invokeFunction('convertToInteractive',\n",
              "                                                    [key], {});\n",
              "        if (!dataTable) return;\n",
              "\n",
              "        const docLinkHtml = 'Like what you see? Visit the ' +\n",
              "          '<a target=\"_blank\" href=https://colab.research.google.com/notebooks/data_table.ipynb>data table notebook</a>'\n",
              "          + ' to learn more about interactive tables.';\n",
              "        element.innerHTML = '';\n",
              "        dataTable['output_type'] = 'display_data';\n",
              "        await google.colab.output.renderOutput(dataTable, element);\n",
              "        const docLink = document.createElement('div');\n",
              "        docLink.innerHTML = docLinkHtml;\n",
              "        element.appendChild(docLink);\n",
              "      }\n",
              "    </script>\n",
              "  </div>\n",
              "\n",
              "\n",
              "<div id=\"df-6937b3ee-43d3-4cc1-9702-d61a22b179f0\">\n",
              "  <button class=\"colab-df-quickchart\" onclick=\"quickchart('df-6937b3ee-43d3-4cc1-9702-d61a22b179f0')\"\n",
              "            title=\"Suggest charts\"\n",
              "            style=\"display:none;\">\n",
              "\n",
              "<svg xmlns=\"http://www.w3.org/2000/svg\" height=\"24px\"viewBox=\"0 0 24 24\"\n",
              "     width=\"24px\">\n",
              "    <g>\n",
              "        <path d=\"M19 3H5c-1.1 0-2 .9-2 2v14c0 1.1.9 2 2 2h14c1.1 0 2-.9 2-2V5c0-1.1-.9-2-2-2zM9 17H7v-7h2v7zm4 0h-2V7h2v10zm4 0h-2v-4h2v4z\"/>\n",
              "    </g>\n",
              "</svg>\n",
              "  </button>\n",
              "\n",
              "<style>\n",
              "  .colab-df-quickchart {\n",
              "      --bg-color: #E8F0FE;\n",
              "      --fill-color: #1967D2;\n",
              "      --hover-bg-color: #E2EBFA;\n",
              "      --hover-fill-color: #174EA6;\n",
              "      --disabled-fill-color: #AAA;\n",
              "      --disabled-bg-color: #DDD;\n",
              "  }\n",
              "\n",
              "  [theme=dark] .colab-df-quickchart {\n",
              "      --bg-color: #3B4455;\n",
              "      --fill-color: #D2E3FC;\n",
              "      --hover-bg-color: #434B5C;\n",
              "      --hover-fill-color: #FFFFFF;\n",
              "      --disabled-bg-color: #3B4455;\n",
              "      --disabled-fill-color: #666;\n",
              "  }\n",
              "\n",
              "  .colab-df-quickchart {\n",
              "    background-color: var(--bg-color);\n",
              "    border: none;\n",
              "    border-radius: 50%;\n",
              "    cursor: pointer;\n",
              "    display: none;\n",
              "    fill: var(--fill-color);\n",
              "    height: 32px;\n",
              "    padding: 0;\n",
              "    width: 32px;\n",
              "  }\n",
              "\n",
              "  .colab-df-quickchart:hover {\n",
              "    background-color: var(--hover-bg-color);\n",
              "    box-shadow: 0 1px 2px rgba(60, 64, 67, 0.3), 0 1px 3px 1px rgba(60, 64, 67, 0.15);\n",
              "    fill: var(--button-hover-fill-color);\n",
              "  }\n",
              "\n",
              "  .colab-df-quickchart-complete:disabled,\n",
              "  .colab-df-quickchart-complete:disabled:hover {\n",
              "    background-color: var(--disabled-bg-color);\n",
              "    fill: var(--disabled-fill-color);\n",
              "    box-shadow: none;\n",
              "  }\n",
              "\n",
              "  .colab-df-spinner {\n",
              "    border: 2px solid var(--fill-color);\n",
              "    border-color: transparent;\n",
              "    border-bottom-color: var(--fill-color);\n",
              "    animation:\n",
              "      spin 1s steps(1) infinite;\n",
              "  }\n",
              "\n",
              "  @keyframes spin {\n",
              "    0% {\n",
              "      border-color: transparent;\n",
              "      border-bottom-color: var(--fill-color);\n",
              "      border-left-color: var(--fill-color);\n",
              "    }\n",
              "    20% {\n",
              "      border-color: transparent;\n",
              "      border-left-color: var(--fill-color);\n",
              "      border-top-color: var(--fill-color);\n",
              "    }\n",
              "    30% {\n",
              "      border-color: transparent;\n",
              "      border-left-color: var(--fill-color);\n",
              "      border-top-color: var(--fill-color);\n",
              "      border-right-color: var(--fill-color);\n",
              "    }\n",
              "    40% {\n",
              "      border-color: transparent;\n",
              "      border-right-color: var(--fill-color);\n",
              "      border-top-color: var(--fill-color);\n",
              "    }\n",
              "    60% {\n",
              "      border-color: transparent;\n",
              "      border-right-color: var(--fill-color);\n",
              "    }\n",
              "    80% {\n",
              "      border-color: transparent;\n",
              "      border-right-color: var(--fill-color);\n",
              "      border-bottom-color: var(--fill-color);\n",
              "    }\n",
              "    90% {\n",
              "      border-color: transparent;\n",
              "      border-bottom-color: var(--fill-color);\n",
              "    }\n",
              "  }\n",
              "</style>\n",
              "\n",
              "  <script>\n",
              "    async function quickchart(key) {\n",
              "      const quickchartButtonEl =\n",
              "        document.querySelector('#' + key + ' button');\n",
              "      quickchartButtonEl.disabled = true;  // To prevent multiple clicks.\n",
              "      quickchartButtonEl.classList.add('colab-df-spinner');\n",
              "      try {\n",
              "        const charts = await google.colab.kernel.invokeFunction(\n",
              "            'suggestCharts', [key], {});\n",
              "      } catch (error) {\n",
              "        console.error('Error during call to suggestCharts:', error);\n",
              "      }\n",
              "      quickchartButtonEl.classList.remove('colab-df-spinner');\n",
              "      quickchartButtonEl.classList.add('colab-df-quickchart-complete');\n",
              "    }\n",
              "    (() => {\n",
              "      let quickchartButtonEl =\n",
              "        document.querySelector('#df-6937b3ee-43d3-4cc1-9702-d61a22b179f0 button');\n",
              "      quickchartButtonEl.style.display =\n",
              "        google.colab.kernel.accessAllowed ? 'block' : 'none';\n",
              "    })();\n",
              "  </script>\n",
              "</div>\n",
              "\n",
              "    </div>\n",
              "  </div>\n"
            ],
            "application/vnd.google.colaboratory.intrinsic+json": {
              "type": "dataframe",
              "variable_name": "df",
              "summary": "{\n  \"name\": \"df\",\n  \"rows\": 90,\n  \"fields\": [\n    {\n      \"column\": \"question\",\n      \"properties\": {\n        \"dtype\": \"string\",\n        \"num_unique_values\": 90,\n        \"samples\": [\n          \"What is the currency of China?\",\n          \"What is the capital of Australia?\",\n          \"Who discovered electricity?\"\n        ],\n        \"semantic_type\": \"\",\n        \"description\": \"\"\n      }\n    },\n    {\n      \"column\": \"answer\",\n      \"properties\": {\n        \"dtype\": \"string\",\n        \"num_unique_values\": 85,\n        \"samples\": [\n          \"ChristopherColumbus\",\n          \"Paris\",\n          \"Christmas\"\n        ],\n        \"semantic_type\": \"\",\n        \"description\": \"\"\n      }\n    }\n  ]\n}"
            }
          },
          "metadata": {},
          "execution_count": 1
        }
      ],
      "source": [
        "import pandas as pd\n",
        "df = pd.read_csv('/content/100_Unique_QA_Dataset.csv')\n",
        "df.head()"
      ]
    },
    {
      "cell_type": "code",
      "source": [
        "# simple tokenize function\n",
        "\n",
        "def tokenize(text):\n",
        "  text = text.lower()\n",
        "  text = text.replace('?','')\n",
        "  text = text.replace(\"'\",\"\")\n",
        "  return text.split()\n"
      ],
      "metadata": {
        "id": "otA7SJRocu0N"
      },
      "execution_count": 2,
      "outputs": []
    },
    {
      "cell_type": "code",
      "source": [
        "tokenize(\"What is the capital of France?\")"
      ],
      "metadata": {
        "colab": {
          "base_uri": "https://localhost:8080/"
        },
        "id": "2K4bzQnquFsE",
        "outputId": "6239adf1-4141-4e79-9cdc-85b686aae5f5"
      },
      "execution_count": 3,
      "outputs": [
        {
          "output_type": "execute_result",
          "data": {
            "text/plain": [
              "['what', 'is', 'the', 'capital', 'of', 'france']"
            ]
          },
          "metadata": {},
          "execution_count": 3
        }
      ]
    },
    {
      "cell_type": "code",
      "source": [
        "# vocab\n",
        "vocab = {'<UNK>':0}"
      ],
      "metadata": {
        "id": "93E4YDs3uJ-J"
      },
      "execution_count": 11,
      "outputs": []
    },
    {
      "cell_type": "code",
      "source": [
        "def build_vocab(row):\n",
        "  tokenized_question = tokenize(row['question'])\n",
        "  tokenized_answer = tokenize(row['answer'])\n",
        "\n",
        "  merged_tokens = tokenized_question + tokenized_answer\n",
        "\n",
        "  for token in merged_tokens:\n",
        "    if token not in vocab:\n",
        "      vocab[token] = len(vocab)\n",
        ""
      ],
      "metadata": {
        "id": "WilraV-MuWm8"
      },
      "execution_count": 6,
      "outputs": []
    },
    {
      "cell_type": "code",
      "source": [
        "# Convert  words to numerical indices\n",
        "\n",
        "def text_to_indices(text,vocab):\n",
        "\n",
        "  indexed_text = []\n",
        "\n",
        "  for token in tokenize(text):\n",
        "    if token in vocab:\n",
        "      indexed_text.append(vocab[token])\n",
        "    else:\n",
        "      indexed_text.append(vocab['<UNK>'])\n",
        "\n",
        "  return indexed_text\n"
      ],
      "metadata": {
        "id": "RRyXucYmuuAT"
      },
      "execution_count": 8,
      "outputs": []
    },
    {
      "cell_type": "code",
      "source": [
        "text_to_indices(\"What is AI\",vocab)"
      ],
      "metadata": {
        "colab": {
          "base_uri": "https://localhost:8080/"
        },
        "id": "2V2E_ttUEav7",
        "outputId": "c334456f-e557-45ef-856c-cdac00741562"
      },
      "execution_count": 13,
      "outputs": [
        {
          "output_type": "execute_result",
          "data": {
            "text/plain": [
              "[0, 0, 0]"
            ]
          },
          "metadata": {},
          "execution_count": 13
        }
      ]
    },
    {
      "cell_type": "code",
      "source": [
        "import torch\n",
        "from torch.utils.data import Dataset, DataLoader"
      ],
      "metadata": {
        "id": "hz6Tr5FFEfZM"
      },
      "execution_count": 14,
      "outputs": []
    },
    {
      "cell_type": "code",
      "source": [
        "class QADataset(Dataset):\n",
        "\n",
        "  def __init__(self,dff,vocab):\n",
        "    self.df = df\n",
        "    self.vocab = vocab\n",
        "  def __len__(self):\n",
        "    return self.df.shape[0]\n",
        "  def __getitem__(self,index):\n",
        "     numerical_question=text_to_indices(self.df.iloc[index]['question'],self.vocab)\n",
        "     numerical_answer=text_to_indices(self.df.iloc[index]['answer'],self.vocab)\n",
        "\n",
        "     return torch.tensor(numerical_question),torch.tensor(numerical_answer)\n"
      ],
      "metadata": {
        "id": "HBP-LqIrFDjt"
      },
      "execution_count": 16,
      "outputs": []
    },
    {
      "cell_type": "code",
      "source": [
        "dataset = QADataset(df,vocab)\n"
      ],
      "metadata": {
        "id": "UJtTBIGTF8Oi"
      },
      "execution_count": 17,
      "outputs": []
    },
    {
      "cell_type": "code",
      "source": [
        "dataloader = DataLoader(dataset,batch_size=1,shuffle=True)"
      ],
      "metadata": {
        "id": "YPazEPi4GBjZ"
      },
      "execution_count": 19,
      "outputs": []
    },
    {
      "cell_type": "code",
      "source": [
        "for question,answer in dataloader:\n",
        "  print(question,answer)"
      ],
      "metadata": {
        "colab": {
          "base_uri": "https://localhost:8080/"
        },
        "id": "0KUHzDhbGCQh",
        "outputId": "fefdd55f-f146-40d0-f0f8-eb21fb1bafb1"
      },
      "execution_count": 20,
      "outputs": [
        {
          "output_type": "stream",
          "name": "stdout",
          "text": [
            "tensor([[0, 0, 0, 0, 0, 0]]) tensor([[0]])\n",
            "tensor([[0, 0, 0, 0, 0, 0, 0, 0, 0]]) tensor([[0]])\n",
            "tensor([[0, 0, 0, 0]]) tensor([[0]])\n",
            "tensor([[0, 0, 0, 0, 0, 0, 0, 0]]) tensor([[0]])\n",
            "tensor([[0, 0, 0, 0, 0, 0, 0]]) tensor([[0]])\n",
            "tensor([[0, 0, 0, 0, 0, 0]]) tensor([[0]])\n",
            "tensor([[0, 0, 0, 0, 0, 0]]) tensor([[0]])\n",
            "tensor([[0, 0, 0, 0, 0, 0, 0]]) tensor([[0]])\n",
            "tensor([[0, 0, 0, 0, 0, 0, 0]]) tensor([[0]])\n",
            "tensor([[0, 0, 0, 0, 0]]) tensor([[0]])\n",
            "tensor([[0, 0, 0, 0, 0, 0]]) tensor([[0]])\n",
            "tensor([[0, 0, 0, 0, 0, 0, 0]]) tensor([[0]])\n",
            "tensor([[0, 0, 0, 0, 0, 0]]) tensor([[0]])\n",
            "tensor([[0, 0, 0, 0, 0, 0]]) tensor([[0]])\n",
            "tensor([[0, 0, 0, 0, 0, 0, 0]]) tensor([[0]])\n",
            "tensor([[0, 0, 0, 0, 0, 0, 0, 0]]) tensor([[0]])\n",
            "tensor([[0, 0, 0, 0, 0, 0, 0]]) tensor([[0]])\n",
            "tensor([[0, 0, 0, 0, 0, 0, 0]]) tensor([[0]])\n",
            "tensor([[0, 0, 0, 0, 0, 0, 0, 0, 0]]) tensor([[0]])\n",
            "tensor([[0, 0, 0]]) tensor([[0]])\n",
            "tensor([[0, 0, 0, 0, 0, 0, 0]]) tensor([[0]])\n",
            "tensor([[0, 0, 0, 0, 0, 0]]) tensor([[0]])\n",
            "tensor([[0, 0, 0, 0, 0, 0, 0]]) tensor([[0]])\n",
            "tensor([[0, 0, 0, 0, 0, 0, 0]]) tensor([[0]])\n",
            "tensor([[0, 0, 0, 0, 0]]) tensor([[0]])\n",
            "tensor([[0, 0, 0, 0, 0, 0]]) tensor([[0]])\n",
            "tensor([[0, 0, 0, 0, 0, 0, 0, 0, 0, 0]]) tensor([[0]])\n",
            "tensor([[0, 0, 0, 0, 0, 0, 0, 0, 0]]) tensor([[0]])\n",
            "tensor([[0, 0, 0, 0, 0, 0, 0, 0, 0]]) tensor([[0]])\n",
            "tensor([[0, 0, 0, 0, 0, 0, 0, 0, 0]]) tensor([[0]])\n",
            "tensor([[0, 0, 0, 0, 0, 0, 0, 0, 0, 0, 0, 0]]) tensor([[0]])\n",
            "tensor([[0, 0, 0, 0, 0, 0, 0, 0]]) tensor([[0]])\n",
            "tensor([[0, 0, 0, 0, 0, 0]]) tensor([[0]])\n",
            "tensor([[0, 0, 0, 0, 0, 0, 0, 0]]) tensor([[0]])\n",
            "tensor([[0, 0, 0, 0, 0, 0, 0, 0]]) tensor([[0]])\n",
            "tensor([[0, 0, 0, 0, 0, 0, 0, 0]]) tensor([[0]])\n",
            "tensor([[0, 0, 0, 0, 0, 0, 0, 0]]) tensor([[0]])\n",
            "tensor([[0, 0, 0, 0, 0, 0, 0, 0]]) tensor([[0]])\n",
            "tensor([[0, 0, 0, 0]]) tensor([[0]])\n",
            "tensor([[0, 0, 0, 0, 0, 0, 0]]) tensor([[0]])\n",
            "tensor([[0, 0, 0, 0, 0, 0, 0]]) tensor([[0]])\n",
            "tensor([[0, 0, 0, 0, 0, 0, 0, 0, 0]]) tensor([[0]])\n",
            "tensor([[0, 0, 0, 0, 0, 0, 0, 0]]) tensor([[0]])\n",
            "tensor([[0, 0, 0, 0, 0, 0]]) tensor([[0]])\n",
            "tensor([[0, 0, 0, 0, 0, 0]]) tensor([[0]])\n",
            "tensor([[0, 0, 0, 0, 0]]) tensor([[0]])\n",
            "tensor([[0, 0, 0, 0, 0, 0, 0, 0, 0, 0]]) tensor([[0]])\n",
            "tensor([[0, 0, 0]]) tensor([[0]])\n",
            "tensor([[0, 0, 0, 0, 0, 0, 0]]) tensor([[0]])\n",
            "tensor([[0, 0, 0, 0, 0, 0, 0, 0]]) tensor([[0]])\n",
            "tensor([[0, 0, 0, 0, 0, 0]]) tensor([[0]])\n",
            "tensor([[0, 0, 0, 0, 0, 0, 0]]) tensor([[0]])\n",
            "tensor([[0, 0, 0, 0, 0, 0]]) tensor([[0]])\n",
            "tensor([[0, 0, 0, 0, 0, 0]]) tensor([[0]])\n",
            "tensor([[0, 0, 0, 0, 0, 0, 0, 0]]) tensor([[0]])\n",
            "tensor([[0, 0, 0, 0, 0, 0, 0, 0]]) tensor([[0]])\n",
            "tensor([[0, 0, 0, 0, 0, 0, 0, 0]]) tensor([[0]])\n",
            "tensor([[0, 0, 0, 0, 0, 0]]) tensor([[0]])\n",
            "tensor([[0, 0, 0, 0, 0, 0]]) tensor([[0]])\n",
            "tensor([[0, 0, 0, 0, 0, 0, 0, 0]]) tensor([[0]])\n",
            "tensor([[0, 0, 0, 0, 0, 0]]) tensor([[0]])\n",
            "tensor([[0, 0, 0, 0, 0, 0]]) tensor([[0]])\n",
            "tensor([[0, 0, 0, 0, 0, 0]]) tensor([[0]])\n",
            "tensor([[0, 0, 0, 0, 0]]) tensor([[0]])\n",
            "tensor([[0, 0, 0, 0, 0, 0]]) tensor([[0]])\n",
            "tensor([[0, 0, 0, 0, 0, 0]]) tensor([[0]])\n",
            "tensor([[0, 0, 0, 0, 0, 0, 0]]) tensor([[0]])\n",
            "tensor([[0, 0, 0, 0, 0, 0, 0]]) tensor([[0]])\n",
            "tensor([[0, 0, 0, 0, 0, 0, 0, 0]]) tensor([[0]])\n",
            "tensor([[0, 0, 0, 0, 0, 0]]) tensor([[0]])\n",
            "tensor([[0, 0, 0, 0, 0, 0, 0, 0]]) tensor([[0]])\n",
            "tensor([[0, 0, 0, 0, 0, 0, 0]]) tensor([[0]])\n",
            "tensor([[0, 0, 0, 0, 0, 0, 0, 0, 0, 0]]) tensor([[0]])\n",
            "tensor([[0, 0, 0, 0, 0, 0]]) tensor([[0]])\n",
            "tensor([[0, 0, 0, 0, 0, 0, 0, 0, 0]]) tensor([[0]])\n",
            "tensor([[0, 0, 0, 0, 0, 0, 0, 0]]) tensor([[0]])\n",
            "tensor([[0, 0, 0, 0, 0, 0, 0, 0, 0]]) tensor([[0]])\n",
            "tensor([[0, 0, 0, 0, 0]]) tensor([[0]])\n",
            "tensor([[0, 0, 0, 0, 0, 0, 0, 0]]) tensor([[0]])\n",
            "tensor([[0, 0, 0, 0, 0, 0, 0]]) tensor([[0]])\n",
            "tensor([[0, 0, 0, 0, 0, 0, 0, 0]]) tensor([[0]])\n",
            "tensor([[0, 0, 0, 0, 0, 0, 0, 0, 0]]) tensor([[0]])\n",
            "tensor([[0, 0, 0]]) tensor([[0]])\n",
            "tensor([[0, 0, 0, 0, 0, 0, 0]]) tensor([[0]])\n",
            "tensor([[0, 0, 0, 0, 0, 0, 0]]) tensor([[0]])\n",
            "tensor([[0, 0, 0, 0, 0, 0]]) tensor([[0]])\n",
            "tensor([[0, 0, 0, 0, 0]]) tensor([[0]])\n",
            "tensor([[0, 0, 0, 0, 0, 0]]) tensor([[0]])\n",
            "tensor([[0, 0, 0, 0, 0, 0, 0, 0]]) tensor([[0]])\n",
            "tensor([[0, 0, 0, 0, 0, 0, 0, 0]]) tensor([[0]])\n"
          ]
        }
      ]
    },
    {
      "cell_type": "code",
      "source": [
        "import torch.nn as nn"
      ],
      "metadata": {
        "id": "AMy9Cv8tGQtG"
      },
      "execution_count": 21,
      "outputs": []
    },
    {
      "cell_type": "code",
      "source": [
        "class SimpleRNN(nn.Module):\n",
        "\n",
        "  def __init__(self,vocab_size):\n",
        "    super().__init__()\n",
        "    self.embedding =nn.Embedding(vocab_size,embedding_dim=50)\n",
        "    self.rnn=nn.RNN(50,64)\n",
        "    self.fc =nn.Linear(64,vocab_size)\n",
        "  def forward(self,question):\n",
        "    embedded_question = self.embedding(question)\n",
        "    hidden,final = self.rnn(embedded_question)\n",
        "    output = self.fc(final)\n",
        "    return output\n",
        "\n"
      ],
      "metadata": {
        "id": "bIdlLPFdHimK"
      },
      "execution_count": 36,
      "outputs": []
    },
    {
      "cell_type": "code",
      "source": [
        "learning_rate = 0.001\n",
        "epochs = 20"
      ],
      "metadata": {
        "id": "89_4eiVoKlC4"
      },
      "execution_count": 37,
      "outputs": []
    },
    {
      "cell_type": "code",
      "source": [
        "model = SimpleRNN(len(vocab))"
      ],
      "metadata": {
        "id": "CPItltLTKlzu"
      },
      "execution_count": 38,
      "outputs": []
    },
    {
      "cell_type": "code",
      "source": [
        " criterion=nn.CrossEntropyLoss()\n",
        " optimizer =torch.optim.Adam(model.parameters(),lr=learning_rate)"
      ],
      "metadata": {
        "id": "b2eJA5geKuyK"
      },
      "execution_count": 41,
      "outputs": []
    },
    {
      "cell_type": "code",
      "source": [
        "# training loop\n",
        "\n",
        "for epoch in range(epochs):\n",
        "  total_loss = 0\n",
        "  for question,answer in dataloader:\n",
        "    optimizer.zero_grad()\n",
        "\n",
        "    # forward pass\n",
        "    output=model(question)\n",
        "\n",
        "    # loss\n",
        "    loss =criterion(output,answer)\n",
        "\n",
        "    # gradients\n",
        "\n",
        "    loss.backward()\n",
        "\n",
        "    # update\n",
        "    optimizer.step()\n",
        "\n",
        "    total_loss = total_loss + loss.item()\n",
        "\n",
        "  print(f\"Epoch {epoch+1}, Loss:{total_loss:4f}\")\n",
        "\n",
        "\n"
      ],
      "metadata": {
        "colab": {
          "base_uri": "https://localhost:8080/"
        },
        "id": "TdTHNYSXKvvU",
        "outputId": "bf58cc17-3e71-48d3-e7ca-ff42ceb82ca5"
      },
      "execution_count": 42,
      "outputs": [
        {
          "output_type": "stream",
          "name": "stdout",
          "text": [
            "Epoch 1, Loss:172.273200\n",
            "Epoch 2, Loss:172.273199\n",
            "Epoch 3, Loss:172.273199\n",
            "Epoch 4, Loss:172.273198\n",
            "Epoch 5, Loss:172.273197\n",
            "Epoch 6, Loss:172.273199\n",
            "Epoch 7, Loss:172.273196\n",
            "Epoch 8, Loss:172.273198\n",
            "Epoch 9, Loss:172.273195\n",
            "Epoch 10, Loss:172.273196\n",
            "Epoch 11, Loss:172.273200\n",
            "Epoch 12, Loss:172.273195\n",
            "Epoch 13, Loss:172.273197\n",
            "Epoch 14, Loss:172.273197\n",
            "Epoch 15, Loss:172.273194\n",
            "Epoch 16, Loss:172.273195\n",
            "Epoch 17, Loss:172.273200\n",
            "Epoch 18, Loss:172.273196\n",
            "Epoch 19, Loss:172.273200\n",
            "Epoch 20, Loss:172.273200\n"
          ]
        }
      ]
    },
    {
      "cell_type": "code",
      "source": [
        "def predict(model, question, threshold=0.5):\n",
        "\n",
        "  # convert question to numbers\n",
        "  numerical_question = text_to_indices(question, vocab)\n",
        "\n",
        "  # tensor\n",
        "  question_tensor = torch.tensor(numerical_question).unsqueeze(0)\n",
        "\n",
        "  # send to model\n",
        "  output = model(question_tensor)\n",
        "\n",
        "  # convert logits to probs\n",
        "  probs = torch.nn.functional.softmax(output, dim=1)\n",
        "\n",
        "  # find index of max prob\n",
        "  value, index = torch.max(probs, dim=1)\n",
        "\n",
        "  if value < threshold:\n",
        "    print(\"I don't know\")\n",
        "\n",
        "  print(list(vocab.keys())[index])"
      ],
      "metadata": {
        "id": "_WGSO1OLLh-B"
      },
      "execution_count": 43,
      "outputs": []
    },
    {
      "cell_type": "code",
      "source": [],
      "metadata": {
        "id": "IVTWJR4ALiW_"
      },
      "execution_count": 45,
      "outputs": []
    },
    {
      "cell_type": "code",
      "source": [],
      "metadata": {
        "id": "SSN96UFISI5W"
      },
      "execution_count": null,
      "outputs": []
    }
  ]
}
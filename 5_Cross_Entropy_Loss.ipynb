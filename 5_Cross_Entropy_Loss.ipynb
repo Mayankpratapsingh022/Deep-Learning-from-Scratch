{
 "cells": [
  {
   "cell_type": "code",
   "execution_count": null,
   "metadata": {},
   "outputs": [],
   "source": [
    "\n",
    "\n",
    "                                      "
   ]
  },
  {
   "cell_type": "markdown",
   "metadata": {},
   "source": [
    "# Categorical Cross Entropy Loss"
   ]
  },
  {
   "cell_type": "markdown",
   "metadata": {},
   "source": [
    "## Case 1\n",
    "#### Class Target are just numbers [0,1,2]"
   ]
  },
  {
   "cell_type": "markdown",
   "metadata": {},
   "source": [
    "## CROSS ENTROPY LOSS BUILDING BLOCKS IN PYTHON"
   ]
  },
  {
   "cell_type": "code",
   "execution_count": 1,
   "metadata": {},
   "outputs": [],
   "source": [
    "import numpy as np"
   ]
  },
  {
   "cell_type": "code",
   "execution_count": 2,
   "metadata": {},
   "outputs": [
    {
     "name": "stdout",
     "output_type": "stream",
     "text": [
      "[0.7 0.5 0.9]\n"
     ]
    }
   ],
   "source": [
    "softmax_outputs = np.array([[0.7,0.1,0.2],[0.1,0.5,0.4],[0.02,0.9,0.08]])\n",
    "class_targets = [0,1,1]\n",
    "print(softmax_outputs[[0,1,2],class_targets])"
   ]
  },
  {
   "cell_type": "code",
   "execution_count": 6,
   "metadata": {},
   "outputs": [
    {
     "name": "stdout",
     "output_type": "stream",
     "text": [
      "[[0.35667494 2.30258509 1.60943791]\n",
      " [2.30258509 0.69314718 0.91629073]\n",
      " [3.91202301 0.10536052 2.52572864]]\n",
      "0.38506088005216804\n"
     ]
    }
   ],
   "source": [
    "print(-np.log(softmax_outputs[\n",
    "    range(len(softmax_outputs))\n",
    "]))\n",
    "\n",
    "neg_log = -np.log(softmax_outputs[\n",
    "\n",
    "    range(len(softmax_outputs)), class_targets\n",
    "])\n",
    "average_loss = np.mean(neg_log)\n",
    "print(average_loss)"
   ]
  },
  {
   "cell_type": "markdown",
   "metadata": {},
   "source": [
    "## Case 2\n",
    "\n",
    "#### Targets is one-hot encoded\n",
    "| Class  | R | G | B |\n",
    "|--------|---|---|---|\n",
    "| Target | 1 | 0 | 0 |\n",
    "|        | 0 | 1 | 0 |\n",
    "|        | 0 | 0 | 1 |\n",
    "\n"
   ]
  },
  {
   "cell_type": "markdown",
   "metadata": {},
   "source": [
    "\n",
    "### Step 1: Element-wise Multiplication\n",
    "\n",
    "| Class  | R   | G   | B   |\n",
    "|--------|-----|-----|-----|\n",
    "| Target | 1   | 0   | 0   |\n",
    "|        | 0   | 1   | 0   |\n",
    "|        | 0   | 0   | 1   |\n",
    "\n",
    "**Multiplied by:**\n",
    "\n",
    "| Prediction | R    | G    | B    |\n",
    "|------------|------|------|------|\n",
    "|            | 0.7  | 0.1  | 0.2  |\n",
    "|            | 0.1  | 0.5  | 0.4  |\n",
    "|            | 0.02 | 0.9  | 0.08 |\n",
    "\n",
    "**Results of element-wise multiplication:**\n",
    "\n",
    "| Result     | R    | G    | B    |\n",
    "|------------|------|------|------|\n",
    "|            | 0.7  | 0.0  | 0.0  |\n",
    "|            | 0.0  | 0.5  | 0.0  |\n",
    "|            | 0.0  | 0.0  | 0.9  |\n",
    "\n",
    "### Step 2: Summing across each row\n",
    "\n",
    "The summation is performed row-wise after element-wise multiplication:\n",
    "\n",
    "| Summation  |\n",
    "|------------|\n",
    "| 0.7        |\n",
    "| 0.5        |\n",
    "| 0.9        |\n",
    "\n",
    "This final result is the output of summing each row of the element-wise multiplied matrix."
   ]
  },
  {
   "cell_type": "code",
   "execution_count": 13,
   "metadata": {},
   "outputs": [
    {
     "name": "stdout",
     "output_type": "stream",
     "text": [
      "[0.35667494 0.69314718 0.10536052]\n",
      "0.38506088005216804\n"
     ]
    }
   ],
   "source": [
    "y_true_check = np.array([\n",
    "\n",
    "    [1,0,0],\n",
    "    [0,1,0],\n",
    "    [0,1,0]\n",
    "])\n",
    "\n",
    "y_pred_clipped_check = np.array([\n",
    "\n",
    "    [0.7,0.2,0.1],\n",
    "    [0.1,0.5,0.4],\n",
    "    [0.02,0.9,0.08]\n",
    "])\n",
    "# Element wise mulitplication\n",
    "A = y_true_check*y_pred_clipped_check\n",
    "B = np.sum(A,axis=1)\n",
    "\n",
    "C = - np.log(B)\n",
    "\n",
    "\n",
    "print(C)\n",
    "\n",
    "print(np.mean(C))\n"
   ]
  },
  {
   "cell_type": "markdown",
   "metadata": {},
   "source": [
    "#### IMPLEMENTING THE LOG LOSS CLASS"
   ]
  },
  {
   "cell_type": "code",
   "execution_count": 2,
   "metadata": {},
   "outputs": [],
   "source": [
    "# Common loss class\n",
    "\n",
    "class Loss:\n",
    "    # calculates the data and regularization losses\n",
    "    # given model output and ground truth values\n",
    "    def calculate(self,output,y):\n",
    "        # Calculate sample losses\n",
    "        sample_losses = self.forward(output,y) \n",
    "        # Calcuate mean loss\n",
    "        data_loss = np.mean(sample_losses)\n",
    "        # Return loss\n",
    "        return data_loss"
   ]
  },
  {
   "cell_type": "code",
   "execution_count": 3,
   "metadata": {},
   "outputs": [],
   "source": [
    "# Cross-entropy loss\n",
    "\n",
    "class Loss_CategoricalCrossentropy(Loss):\n",
    "    # Forward pass\n",
    "    def forward(self,y_pred,y_true):\n",
    "        # Number of samples in a batch\n",
    "        samples = len(y_pred)\n",
    "        # Clip data to prevent division by 0\n",
    "        # Clip both sides to not drag mean towards any value\n",
    "        y_pred_clipped = np.clip(y_pred,1e-7, 1 - 1e-7)\n",
    "        # Probabilities for target values -\n",
    "        # only if categorical labels\n",
    "        if len(y_true.shape) == 1:\n",
    "            correct_confidences = y_pred_clipped[\n",
    "                range(samples),\n",
    "                y_true\n",
    "            ]\n",
    "\n",
    "        # Mask values - only for one-hot encoded labels\n",
    "\n",
    "        elif len(y_true.shape) == 2:\n",
    "            correct_confidences = np.sum(\n",
    "                y_pred_clipped*y_true,\n",
    "                axis=1\n",
    "            )\n",
    "        # Losses\n",
    "        negative_log_likelihoods = -np.log(correct_confidences)\n",
    "        return negative_log_likelihoods\n",
    "    \n",
    "\n",
    "\n",
    "    # Backward pass\n",
    "\n",
    "    def backward(self,dvalues,y_true):\n",
    "        # Number of samples\n",
    "\n",
    "        samples = len(dvalues)\n",
    "        # Number of labels in every sample\n",
    "        # we'll use the first sample to count them\n",
    "\n",
    "        labels = len(dvalues[0])\n",
    "        # If labels are sparse, turn them into one-hot vector\n",
    "\n",
    "        if len(y_true.shape) == 1:\n",
    "            y_true = np.eye(labels)[y_true]\n",
    "        \n",
    "        # Calculate gradient\n",
    "\n",
    "        self.dinputs = -y_true/ dvalues \n",
    "\n",
    "        # Normalize gradient \n",
    "\n",
    "        self.dinputs = self.dinputs / samples"
   ]
  },
  {
   "cell_type": "code",
   "execution_count": 18,
   "metadata": {},
   "outputs": [
    {
     "name": "stdout",
     "output_type": "stream",
     "text": [
      "0.38506088005216804\n"
     ]
    }
   ],
   "source": [
    "softmax_outputs = np.array([[0.7,0.1,0.2],[0.1,0.5,0.4],[0.02,0.9,0.08]])\n",
    "\n",
    "class_targets = np.array([[1,0,0],[0,1,0],[0,1,0]])\n",
    "\n",
    "loss_function = Loss_CategoricalCrossentropy()\n",
    "loss = loss_function.calculate(softmax_outputs,class_targets)\n",
    "print(loss)"
   ]
  },
  {
   "cell_type": "code",
   "execution_count": null,
   "metadata": {},
   "outputs": [],
   "source": []
  }
 ],
 "metadata": {
  "kernelspec": {
   "display_name": "Python 3",
   "language": "python",
   "name": "python3"
  },
  "language_info": {
   "codemirror_mode": {
    "name": "ipython",
    "version": 3
   },
   "file_extension": ".py",
   "mimetype": "text/x-python",
   "name": "python",
   "nbconvert_exporter": "python",
   "pygments_lexer": "ipython3",
   "version": "3.12.4"
  }
 },
 "nbformat": 4,
 "nbformat_minor": 2
}
